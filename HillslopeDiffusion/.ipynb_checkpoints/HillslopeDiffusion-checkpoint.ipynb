{
 "cells": [
  {
   "cell_type": "markdown",
   "metadata": {},
   "source": [
    "## Surface Processes\n",
    "### Hillslope Diffusion"
   ]
  },
  {
   "cell_type": "markdown",
   "metadata": {},
   "source": [
    "As geomorphologists we try to describe and explain the geomorphic features we see in the world around us.\n",
    "But only describing is not useful in terms of making statements about the past and the possible future of a system, so we try to use very annoying things like equations and math in general to explain what is happening in the world around us.\n",
    "\n",
    "The most simple way to start this task is the so-called 'hillslope diffusion' equation, which explains how sediment is transported down a hillslope by e.g soil creep, rainsplash, etc.. It is assumed that all those processes are in first-order driven by gravity and, like all diffusion processes, are driven by a 'Gradient'. If you think about what gradient in a landscape exists which directly links to gravity? Right, the elevation! So set up the equation.\n",
    "\n",
    "First we write the equation for the amount of sediment which moves down a hillslope."
   ]
  },
  {
   "cell_type": "markdown",
   "metadata": {},
   "source": [
    "$q = -k_{diff} * \\frac{dh}{dx}$ ; with q = sediment flux, k = diffusivity constant and dh/dx beeing the change in elevation = slope"
   ]
  },
  {
   "cell_type": "markdown",
   "metadata": {},
   "source": [
    "Cool! Now we can calculate some value for q which gives us some value about some stuff that moves down some hill! Nice, isn't it?\n",
    "\n",
    "q, the sediment flux [$\\frac{m^3}{s}$] which tells us how many sediment moves down the slope at any point of the slope (at any value of x).\n",
    "\n",
    "Now we want to know how much this value of q influences the actual elevation of a hillslope. For this we need to do something that we geomorphologists call a 'mass balance'. A mass balance basically describes \"the mass which enters a system and the mass that leaves the system at any point in time\" :\n",
    "\n",
    "** Input = Output + Accumulation **\n",
    "\n",
    "In our case we imagine we have a nice little hill standing outside of nice little Tübingen and we assume we marked a square on this hill with a sidelength of 1m and therefore an area of 1$m^2$.\n",
    "\n",
    "![alt text](https://github.com/ManuSchmi88/SurfaceProcesses/blob/master/HillslopeDiffusion/MassBalancePng.png \"Logo Title Text 1\")\n"
   ]
  },
  {
   "cell_type": "code",
   "execution_count": null,
   "metadata": {
    "collapsed": true
   },
   "outputs": [],
   "source": []
  }
 ],
 "metadata": {
  "anaconda-cloud": {},
  "kernelspec": {
   "display_name": "Python [default]",
   "language": "python",
   "name": "python3"
  },
  "language_info": {
   "codemirror_mode": {
    "name": "ipython",
    "version": 3
   },
   "file_extension": ".py",
   "mimetype": "text/x-python",
   "name": "python",
   "nbconvert_exporter": "python",
   "pygments_lexer": "ipython3",
   "version": "3.5.2"
  }
 },
 "nbformat": 4,
 "nbformat_minor": 1
}
