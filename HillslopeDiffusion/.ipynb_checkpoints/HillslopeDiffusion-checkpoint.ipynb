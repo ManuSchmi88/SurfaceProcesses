{
 "cells": [
  {
   "cell_type": "markdown",
   "metadata": {},
   "source": [
    "# A not-so-serious introduction to modeling of surface processes\n",
    "# Hillslope Diffusion\n",
    "## *Basics*"
   ]
  },
  {
   "cell_type": "markdown",
   "metadata": {},
   "source": [
    "As geomorphologists we try to describe and explain the geomorphic features we see in the world around us.\n",
    "But only describing is not useful in terms of making statements about the past and the possible future of a system, so we try to use very annoying things like equations and math in general to explain what is happening in the world around us.\n",
    "\n",
    "The most simple way to start this task is the so-called 'hillslope diffusion' equation, which explains how sediment is transported down a hillslope by e.g soil creep, rainsplash, etc.. It is assumed that all those processes are in first-order driven by gravity and, like all diffusion processes, are driven by a 'Gradient'. If you think about what gradient in a landscape exists which directly links to gravity? Right, the elevation! So set up the equation.\n",
    "\n",
    "First we write the equation for the amount of sediment which moves down a hillslope."
   ]
  },
  {
   "cell_type": "markdown",
   "metadata": {},
   "source": [
    "$q = -k_{diff} * \\frac{dh}{dx}$\n",
    "\n",
    "with q = sediment flux, k = diffusivity constant and dh/dx beeing the change in elevation = slope"
   ]
  },
  {
   "cell_type": "markdown",
   "metadata": {},
   "source": [
    "Cool! Now we can calculate some value for q which gives us some value about some stuff that moves down some hill! Nice, isn't it?\n",
    "\n",
    "q, the sediment flux [$\\frac{m^3}{s}$] which tells us how many sediment moves down the slope at any point of the slope (at any value of x).\n",
    "\n",
    "Now we want to know how much this value of q influences the actual elevation of a hillslope. For this we need to do something that we geomorphologists call a 'mass balance'. A mass balance basically describes \"the mass which enters a system and the mass that leaves the system at any point in time\" :\n",
    "\n",
    "*** Input = Output + Accumulation ***\n",
    "\n",
    "In our case we imagine something, we like to call a ***sandbox model***, only that we use theoretical sand (bits and bytes). When you are in holiday at a nice beach and somebody gives you the task to build up an cube in the sand, what expect you to be the problem? Right, the 'walls' of the cube are going to collapse, because they are not stable. But imagine you do it anyway, you go there, you build up you nice little cube and then you go away, have a beer and forget about it. The next day you come back and what you see is a hump. Your cube with nice flat sharp edges turned into a undefined hump of sand. Thats because it gets 'eroded' away, slowly but steady :\n",
    "***\n",
    "![alt text](SandCube.svg.png \"Logo Title Text 1\")\n",
    "***\n",
    "And because there is no sand appearing out of in thin air and raining down on our sandcube, we can assume that the elevation of this area depends on the velocity of sand traveling 'down the cube'. So there is no **Input** and the **Output** would be the sand traveling away from the cube. The model mass balance would look something like this:\n",
    "\n",
    "The interesting thing about this sandcube for us would be to see how fast it is decaying. How long does it take until the cube got flat?\n",
    "For this we need to write an equation in which the height of the cube depends on how long the cube is standing there:\n",
    "\n",
    "$\\frac{dh}{dt} = -\\frac{dq}{dx} $, \n",
    "\n",
    "or in other words : elevation change with time *dh/dt* depends on the change of the sediment flux over time *dq/dt*, so the higher the sediment flux the faster our elevation will drop (the cube will be gone faster).\n",
    "\n",
    "***\n",
    "![alt text](SandCube_MassBalance.svg.png \"Logo Title Text 1\")\n",
    "***"
   ]
  },
  {
   "cell_type": "markdown",
   "metadata": {},
   "source": [
    "For this (honestly) very simple example of a mass balance we can think about 3 different scenarios and their outcomes:\n",
    "1. Input > Output = The sandhump will grow\n",
    "2. Input < Output = The sandhump will flatten out (our example case)\n",
    "3. Input == Output = ? Good question. My Guess is that the sandhump will evolve in a specific shape and then just stay this way"
   ]
  },
  {
   "cell_type": "markdown",
   "metadata": {},
   "source": [
    "One last problem with this stuff, before we start doing some cool plots and calculations (promise!) is this: Normally we don't have any fricking idea about $\\frac{dq}{dx}$, so how fast the sediment travels somewhere else or down our sandcube. Those processes happen over such a long timescale and at such a slow rate, that it is nearly impossible to constrain for each landscape. So we could not use the last equation. Good thing is, at te beginning we introduced an equation for q! So, we just combine those two equationd and are ready to rumble: \n",
    "\n",
    "(1)  $$q = -k_{diff} * \\frac{\\partial h}{\\partial x}$$\n",
    "\n",
    "(2)  $$\\frac{\\partial h}{\\partial t} = -\\frac{\\partial q}{\\partial x} $$\n",
    "\n",
    "(1) + (2) $$\\frac{\\partial h}{\\partial t} = k * \\frac{\\partial^2h}{\\partial x^2}$$\n"
   ]
  },
  {
   "cell_type": "markdown",
   "metadata": {},
   "source": [
    "Note that the term on the right is the second-derivative of the topography, which mathematically resembles the curvature. Places with large negative curvature ('Hills') have high values of erosion whereas places with high positive erosion ('valleys') have high values of deposition:\n",
    "\n",
    "![alt text](CurvaturePng.png \"Logo Title Text 1\")\n",
    "\n",
    "So does this mean we can calculate the decay of our sandcube just with the help of the shape of our sandcube?"
   ]
  },
  {
   "cell_type": "markdown",
   "metadata": {},
   "source": [
    "## *How to 'model' the model*\n",
    "### Discretization"
   ]
  },
  {
   "cell_type": "markdown",
   "metadata": {},
   "source": [
    "So now we have an equation which can be used to calculate how the height of our sandbump changes in time and so we are done, right?\n",
    "Problem is: this is an differential equation, so right now we can't really say something about the overall height. So we use something, we modelers call a \"finite-difference-model\". Basically we try to write the differential equation as a set of linear equations, using only our \"known\" variables. \n",
    "In order to do this we need to ***\"discretize\"*** our model: We need to set up specific intervals of time and space at which we want to calculate the height of our sand-bump. To get a clearer grip on how this works, lets look at a figure:\n",
    "\n",
    "![alt text](xt_space_png.png \"Logo Title Text 1\")\n",
    "\n",
    "In this figure x represents space and t represents time. The black-dot in the middle represent our present state. The red dots represent our system either one timestep $\\Delta t$ in the future (the upper point) or one timestep $\\Delta t$ in the past (the lower point) whereas the green points represent different locations *within* the system we want to model. (In this case it would be very 1-Dimensional). \n",
    "\n",
    "You may ask why we are doing this and the most easiest explanation is problably: thats just how computers work. If we can't have a ***\"analytical\"*** solution for an equation, which basically gives us an result for EVERY point in time and space we need a ***\"numerical\"*** solution. We calculate the numerical solution by just always assuming we know the present state of a system, then calculating the state one-step in the future, then another step in the future and so on... So in the figure, with each calculation, we would move up along the t-axis.\n",
    "\n",
    "For our sand-cube example: just imagine putting little green flags (analogous to the green points in the last figure) every 5cm in the cube from one side to the other (so $\\Delta x = 5cm$ and watching the cube decay every hour (so $\\Delta t = 1hour$)\n",
    "\n",
    "So how do we do this?"
   ]
  },
  {
   "cell_type": "markdown",
   "metadata": {},
   "source": [
    "### Taylor Expansion"
   ]
  },
  {
   "cell_type": "markdown",
   "metadata": {},
   "source": [
    "Remember what you just read about in the last chapter. We calculate something in the future by assuming we know how it is right NOW. We have a function $\\frac{dh}{dt} = k * \\frac{d^2h}{dx^2}$ which describes how the system will change over time and we have chosen some time-intervall $\\Delta t$ over which we want to observe our model. So we can get cracking. What we do now is something that is called a ***Taylor Expansion***. This is rougly a mathematical way to approximate a function, for which we can not find an exact analytical solution, by writing it in terms of an series of an infinite number of terms. How this exactly works is not so important here (if you want to know, there are many good books about this stuff) but for understanding how we get to our 'final' equation later, there are two important equations:\n",
    "\n",
    "$$h(x + \\Delta x) = h(x) + \\Delta x \\frac{\\partial h}{\\partial x} + \\frac{\\Delta x^2}{2} \\frac{\\partial ^2 h}{\\partial x^2}+ \\frac{\\Delta x^3}{3} \\frac{\\partial ^3 h}{\\partial x^3}+ O(\\Delta x^4)$$\n",
    "\n",
    "$$h(x - \\Delta x) = h(x) - \\Delta x \\frac{\\partial h}{\\partial x} + \\frac{\\Delta x^2}{2} \\frac{\\partial ^2 h}{\\partial x^2}\\ - \\frac{\\Delta x^3}{3} \\frac{\\partial ^3 h}{\\partial x^3} + O(\\Delta x^4)$$\n",
    "\n",
    "Think of those two series as equations that describe the system going 'forward' and 'backward' within our model domain (or going one green flag to the right and one green flag to the left on our small sand-cube). Cool thing about those two equations is, that if we add them to each other, all the odd-numbered terms cancel each other out (don't mind this O(x^2) thing at the end, this is a measure of the residual of our approximation because after all it just an approximation)\n",
    "\n",
    "$$h(x + \\Delta x) + h(x - \\Delta x) = 2h(x) + \\Delta x^2 \\frac{\\partial^2 h}{\\partial x^2} + O(x^2)$$\n",
    "\n",
    "Now we solve this equation after $\\frac{\\partial^2 h}{\\partial x^2}$ and write $h(x + \\Delta x)$ and $h(x - \\Delta x)$ as $h_{i+1}$ and $h_{i-1}$ respectively:\n",
    "\n",
    "$$\\frac{\\partial^2 h}{\\partial x^2} = \\frac{h_{i+1} - 2h(x) + h_{i-1}}{\\Delta x^2} + O(x^2)$$\n",
    "\n",
    "so now we have an equation for the second derivative of h after x. Sounds familiar? Think about our standart diffusion again equation : $\\frac{\\partial h}{\\partial t} = k * \\frac{\\partial^2h}{\\partial x^2}$\n",
    "\n",
    "So now we substitute $\\frac{\\partial^2 h}{\\partial x^2}$ in the diffusion equation and discretize $\\frac{\\partial h}{\\partial x}$ with $\\frac{h_{i}^{n+1} + h_{i}^{n}}{\\Delta t}$ and drop the correction factor o(x^2):\n",
    "\n",
    "$$\\frac{h_{i}^{n+1}  +  h_{i}^{n}}{\\Delta t} = \\frac{h_{i+1} - 2h(x) + h_{i-1}}{\\Delta x^2}$$\n",
    "\n",
    "But now we still have two unknowns $h_{i}^{n+1}  +  h_{i}^{n}$ on the left hand side of the equation or don't we? An important thing when doing stuff like this is, that in almost all cases we need an idea about the inital state of our system. We call this therefore ***initical conditions (IC)***. Think about our sand-cube example again: What would be the inital state of our system ? It would be the shape and height and of our inital sandcube. This would be our initial condition at the time t = 0, or in mathematical expressions : $u(x,0) = u_o(x)$. This means nothing more than at the point in time t = 0 we now the exact height of the sandcube at any point x, just because we build it this way, so we defined it.\n"
   ]
  },
  {
   "cell_type": "markdown",
   "metadata": {
    "collapsed": false
   },
   "source": [
    "## So lets try to put this into python\n",
    "### First we load a bunch of important modules that we need"
   ]
  },
  {
   "cell_type": "code",
   "execution_count": 17,
   "metadata": {
    "collapsed": false
   },
   "outputs": [],
   "source": [
    "#This loads some python moduels that we are going to need for calcs\n",
    "#and plotting\n",
    "import numpy as np\n",
    "from matplotlib import pyplot as plt\n",
    "%matplotlib inline"
   ]
  },
  {
   "cell_type": "markdown",
   "metadata": {},
   "source": [
    "### Now we 'build' a model. We define a few parameters which will define our initial assumptions and material constants"
   ]
  },
  {
   "cell_type": "code",
   "execution_count": 18,
   "metadata": {
    "collapsed": false
   },
   "outputs": [],
   "source": [
    "#Length of our model domain in cm.\n",
    "#In this example our sandcube will be build in the middle of our domain\n",
    "Length  = 100 \n",
    "\n",
    "#The spatial resolution (how often do we devide our area?)\n",
    "dx      = 2./(Length-1)\n",
    "\n",
    "#How long are we running our model? (in hours)\n",
    "T       = 3\n",
    "\n",
    "#The temporal resolution of our model\n",
    "dt      = dx**2/2\n",
    "\n",
    "#Out of the maximum time and the timestepduration we get amount of timesteps\n",
    "n       = int(T/dt)\n",
    "\n",
    "#Finally some geological values! K is something thats called the 'diffusivity',\n",
    "#it describes how effective mass moves through a system. (cm^2/h, UNITS MUST BE CONSISTENT!)\n",
    "K       = 0.01\n",
    "\n",
    "#Assume we have plate tectonics raising our beach in the air by some value.\n",
    "#What happens if play around with this? Does this influence the shape of the sandcube?\n",
    "#uplift  = 0.0001       #uplift rate cm/h\n",
    "\n",
    "#Width of our initial sandcube in cm\n",
    "cube_w  = 20\n",
    "\n",
    "#Height of our initial sandcube in cm (what happens if this gets negative?)\n",
    "cube_h   = 2"
   ]
  },
  {
   "cell_type": "markdown",
   "metadata": {},
   "source": [
    "### This kind of goes into the \"meat\" of python. Its not so important right now if you dont understand everything. We just \"build\" up our sandcube"
   ]
  },
  {
   "cell_type": "code",
   "execution_count": 19,
   "metadata": {
    "collapsed": false
   },
   "outputs": [
    {
     "name": "stderr",
     "output_type": "stream",
     "text": [
      "/home/manu/anaconda3/lib/python3.5/site-packages/ipykernel/__main__.py:6: VisibleDeprecationWarning: using a non-integer number instead of an integer will result in an error in the future\n"
     ]
    },
    {
     "data": {
      "image/png": "[encoded data removed]",
      "text/plain": [
       "<matplotlib.figure.Figure at 0x7f88cfdc6160>"
      ]
     },
     "metadata": {},
     "output_type": "display_data"
    }
   ],
   "source": [
    "#create domainarray\n",
    "d   = np.linspace(0,Length,Length+1)\n",
    "#create elevationarray of sandcube\n",
    "h   = np.zeros(len(d))   \n",
    "#build sandcube around middle of model domain. This is our \"Inital Condition\"\n",
    "h[len(h)/2-(cube_w/2):len(h)/2+(cube_w/2)]  += cube_h\n",
    "#Just some plotting\n",
    "fig1 = plt.figure('initial topography')\n",
    "ax1  = plt.plot(d,h,'r')\n",
    "yax1 = plt.ylim([-2,4])\n",
    "xtxt = plt.xlabel(\"Distance (m)\")\n",
    "ytxt = plt.ylabel(\"Height (m)\")"
   ]
  },
  {
   "cell_type": "code",
   "execution_count": 20,
   "metadata": {
    "collapsed": false
   },
   "outputs": [
    {
     "data": {
      "image/png": "[encoded data removed]",
      "text/plain": [
       "<matplotlib.figure.Figure at 0x7f88cfdab2b0>"
      ]
     },
     "metadata": {},
     "output_type": "display_data"
    }
   ],
   "source": [
    "#Set up a second elevation array for saving the \"current n-state\" of the system\n",
    "hn = np.ones(Length)\n",
    "#Loop through every timestep\n",
    "for j in range(n):\n",
    "    #After every timestep update the h(n) array\n",
    "    hn = h.copy()\n",
    "    #Loop through all the points in the model array\n",
    "    for i in range(1,Length-1):\n",
    "        h[i] = hn[i] + K * dt / dx**2 * (hn[i+1] - 2 * hn[i] + hn[i-1])\n",
    "    h += uplift #we neglect uplift right now. the beach is not moving\n",
    "#Plotting again\n",
    "fig2 = plt.figure('resulting topography')\n",
    "pl2  = plt.plot(d,h,'r')\n",
    "yax2 = plt.ylim([-2,4])\n",
    "xtxt = plt.xlabel(\"Distance (m)\")\n",
    "ytxt = plt.ylabel(\"Height (m)\")\n",
    "        "
   ]
  }
 ],
 "metadata": {
  "anaconda-cloud": {},
  "kernelspec": {
   "display_name": "Python [default]",
   "language": "python",
   "name": "python3"
  },
  "language_info": {
   "codemirror_mode": {
    "name": "ipython",
    "version": 3
   },
   "file_extension": ".py",
   "mimetype": "text/x-python",
   "name": "python",
   "nbconvert_exporter": "python",
   "pygments_lexer": "ipython3",
   "version": "3.5.2"
  }
 },
 "nbformat": 4,
 "nbformat_minor": 1
}
